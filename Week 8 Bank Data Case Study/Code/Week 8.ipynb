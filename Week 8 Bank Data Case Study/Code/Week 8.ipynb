{
 "cells": [
  {
   "cell_type": "markdown",
   "metadata": {},
   "source": [
    "# Week 8 Bank Data Case Study"
   ]
  },
  {
   "cell_type": "markdown",
   "metadata": {},
   "source": [
    "## Load Packages"
   ]
  },
  {
   "cell_type": "code",
   "execution_count": 1,
   "metadata": {},
   "outputs": [],
   "source": [
    "import pandas as pd\n",
    "import numpy as np"
   ]
  },
  {
   "cell_type": "markdown",
   "metadata": {},
   "source": [
    "## Read the Data\n",
    "\n",
    "In this section we read in the data. "
   ]
  },
  {
   "cell_type": "code",
   "execution_count": 2,
   "metadata": {
    "scrolled": false
   },
   "outputs": [
    {
     "data": {
      "text/html": [
       "<div>\n",
       "<style scoped>\n",
       "    .dataframe tbody tr th:only-of-type {\n",
       "        vertical-align: middle;\n",
       "    }\n",
       "\n",
       "    .dataframe tbody tr th {\n",
       "        vertical-align: top;\n",
       "    }\n",
       "\n",
       "    .dataframe thead th {\n",
       "        text-align: right;\n",
       "    }\n",
       "</style>\n",
       "<table border=\"1\" class=\"dataframe\">\n",
       "  <thead>\n",
       "    <tr style=\"text-align: right;\">\n",
       "      <th></th>\n",
       "      <th>ID</th>\n",
       "      <th>target</th>\n",
       "      <th>v1</th>\n",
       "      <th>v2</th>\n",
       "      <th>v3</th>\n",
       "      <th>v4</th>\n",
       "      <th>v5</th>\n",
       "      <th>v6</th>\n",
       "      <th>v7</th>\n",
       "      <th>v8</th>\n",
       "      <th>...</th>\n",
       "      <th>v122</th>\n",
       "      <th>v123</th>\n",
       "      <th>v124</th>\n",
       "      <th>v125</th>\n",
       "      <th>v126</th>\n",
       "      <th>v127</th>\n",
       "      <th>v128</th>\n",
       "      <th>v129</th>\n",
       "      <th>v130</th>\n",
       "      <th>v131</th>\n",
       "    </tr>\n",
       "  </thead>\n",
       "  <tbody>\n",
       "    <tr>\n",
       "      <th>0</th>\n",
       "      <td>3</td>\n",
       "      <td>1</td>\n",
       "      <td>1.335739</td>\n",
       "      <td>8.727474</td>\n",
       "      <td>C</td>\n",
       "      <td>3.921026</td>\n",
       "      <td>7.915266</td>\n",
       "      <td>2.599278</td>\n",
       "      <td>3.176895</td>\n",
       "      <td>0.012941</td>\n",
       "      <td>...</td>\n",
       "      <td>8.000000</td>\n",
       "      <td>1.989780</td>\n",
       "      <td>0.035754</td>\n",
       "      <td>AU</td>\n",
       "      <td>1.804126</td>\n",
       "      <td>3.113719</td>\n",
       "      <td>2.024285</td>\n",
       "      <td>0</td>\n",
       "      <td>0.636365</td>\n",
       "      <td>2.857144</td>\n",
       "    </tr>\n",
       "    <tr>\n",
       "      <th>1</th>\n",
       "      <td>4</td>\n",
       "      <td>1</td>\n",
       "      <td>1.630686</td>\n",
       "      <td>7.464411</td>\n",
       "      <td>C</td>\n",
       "      <td>4.145098</td>\n",
       "      <td>9.191265</td>\n",
       "      <td>2.436402</td>\n",
       "      <td>2.483921</td>\n",
       "      <td>2.301630</td>\n",
       "      <td>...</td>\n",
       "      <td>6.822439</td>\n",
       "      <td>3.549938</td>\n",
       "      <td>0.598896</td>\n",
       "      <td>AF</td>\n",
       "      <td>1.672658</td>\n",
       "      <td>3.239542</td>\n",
       "      <td>1.957825</td>\n",
       "      <td>0</td>\n",
       "      <td>1.925763</td>\n",
       "      <td>1.739389</td>\n",
       "    </tr>\n",
       "    <tr>\n",
       "      <th>2</th>\n",
       "      <td>5</td>\n",
       "      <td>1</td>\n",
       "      <td>0.943877</td>\n",
       "      <td>5.310079</td>\n",
       "      <td>C</td>\n",
       "      <td>4.410969</td>\n",
       "      <td>5.326159</td>\n",
       "      <td>3.979592</td>\n",
       "      <td>3.928571</td>\n",
       "      <td>0.019645</td>\n",
       "      <td>...</td>\n",
       "      <td>9.333333</td>\n",
       "      <td>2.477596</td>\n",
       "      <td>0.013452</td>\n",
       "      <td>AE</td>\n",
       "      <td>1.773709</td>\n",
       "      <td>3.922193</td>\n",
       "      <td>1.120468</td>\n",
       "      <td>2</td>\n",
       "      <td>0.883118</td>\n",
       "      <td>1.176472</td>\n",
       "    </tr>\n",
       "    <tr>\n",
       "      <th>3</th>\n",
       "      <td>6</td>\n",
       "      <td>1</td>\n",
       "      <td>0.797415</td>\n",
       "      <td>8.304757</td>\n",
       "      <td>C</td>\n",
       "      <td>4.225930</td>\n",
       "      <td>11.627438</td>\n",
       "      <td>2.097700</td>\n",
       "      <td>1.987549</td>\n",
       "      <td>0.171947</td>\n",
       "      <td>...</td>\n",
       "      <td>7.018256</td>\n",
       "      <td>1.812795</td>\n",
       "      <td>0.002267</td>\n",
       "      <td>CJ</td>\n",
       "      <td>1.415230</td>\n",
       "      <td>2.954381</td>\n",
       "      <td>1.990847</td>\n",
       "      <td>1</td>\n",
       "      <td>1.677108</td>\n",
       "      <td>1.034483</td>\n",
       "    </tr>\n",
       "    <tr>\n",
       "      <th>4</th>\n",
       "      <td>8</td>\n",
       "      <td>1</td>\n",
       "      <td>1.630686</td>\n",
       "      <td>7.464411</td>\n",
       "      <td>C</td>\n",
       "      <td>4.145098</td>\n",
       "      <td>8.742359</td>\n",
       "      <td>2.436402</td>\n",
       "      <td>2.483921</td>\n",
       "      <td>1.496569</td>\n",
       "      <td>...</td>\n",
       "      <td>6.822439</td>\n",
       "      <td>3.549938</td>\n",
       "      <td>0.919812</td>\n",
       "      <td>Z</td>\n",
       "      <td>1.672658</td>\n",
       "      <td>3.239542</td>\n",
       "      <td>2.030373</td>\n",
       "      <td>0</td>\n",
       "      <td>1.925763</td>\n",
       "      <td>1.739389</td>\n",
       "    </tr>\n",
       "  </tbody>\n",
       "</table>\n",
       "<p>5 rows × 133 columns</p>\n",
       "</div>"
      ],
      "text/plain": [
       "   ID  target        v1        v2 v3        v4         v5        v6        v7  \\\n",
       "0   3       1  1.335739  8.727474  C  3.921026   7.915266  2.599278  3.176895   \n",
       "1   4       1  1.630686  7.464411  C  4.145098   9.191265  2.436402  2.483921   \n",
       "2   5       1  0.943877  5.310079  C  4.410969   5.326159  3.979592  3.928571   \n",
       "3   6       1  0.797415  8.304757  C  4.225930  11.627438  2.097700  1.987549   \n",
       "4   8       1  1.630686  7.464411  C  4.145098   8.742359  2.436402  2.483921   \n",
       "\n",
       "         v8  ...      v122      v123      v124  v125      v126      v127  \\\n",
       "0  0.012941  ...  8.000000  1.989780  0.035754    AU  1.804126  3.113719   \n",
       "1  2.301630  ...  6.822439  3.549938  0.598896    AF  1.672658  3.239542   \n",
       "2  0.019645  ...  9.333333  2.477596  0.013452    AE  1.773709  3.922193   \n",
       "3  0.171947  ...  7.018256  1.812795  0.002267    CJ  1.415230  2.954381   \n",
       "4  1.496569  ...  6.822439  3.549938  0.919812     Z  1.672658  3.239542   \n",
       "\n",
       "       v128  v129      v130      v131  \n",
       "0  2.024285     0  0.636365  2.857144  \n",
       "1  1.957825     0  1.925763  1.739389  \n",
       "2  1.120468     2  0.883118  1.176472  \n",
       "3  1.990847     1  1.677108  1.034483  \n",
       "4  2.030373     0  1.925763  1.739389  \n",
       "\n",
       "[5 rows x 133 columns]"
      ]
     },
     "execution_count": 2,
     "metadata": {},
     "output_type": "execute_result"
    }
   ],
   "source": [
    "df = pd.read_csv(\"../Data/case_8.csv\")\n",
    "df.head()"
   ]
  },
  {
   "cell_type": "markdown",
   "metadata": {},
   "source": [
    "No obvious issues like parsing errors or missings. Lets see what we have for data types."
   ]
  },
  {
   "cell_type": "code",
   "execution_count": 3,
   "metadata": {
    "scrolled": false
   },
   "outputs": [
    {
     "name": "stdout",
     "output_type": "stream",
     "text": [
      "<class 'pandas.core.frame.DataFrame'>\n",
      "RangeIndex: 114321 entries, 0 to 114320\n",
      "Data columns (total 133 columns):\n",
      " #   Column  Dtype  \n",
      "---  ------  -----  \n",
      " 0   ID      int64  \n",
      " 1   target  int64  \n",
      " 2   v1      float64\n",
      " 3   v2      float64\n",
      " 4   v3      object \n",
      " 5   v4      float64\n",
      " 6   v5      float64\n",
      " 7   v6      float64\n",
      " 8   v7      float64\n",
      " 9   v8      float64\n",
      " 10  v9      float64\n",
      " 11  v10     float64\n",
      " 12  v11     float64\n",
      " 13  v12     float64\n",
      " 14  v13     float64\n",
      " 15  v14     float64\n",
      " 16  v15     float64\n",
      " 17  v16     float64\n",
      " 18  v17     float64\n",
      " 19  v18     float64\n",
      " 20  v19     float64\n",
      " 21  v20     float64\n",
      " 22  v21     float64\n",
      " 23  v22     object \n",
      " 24  v23     float64\n",
      " 25  v24     object \n",
      " 26  v25     float64\n",
      " 27  v26     float64\n",
      " 28  v27     float64\n",
      " 29  v28     float64\n",
      " 30  v29     float64\n",
      " 31  v30     object \n",
      " 32  v31     object \n",
      " 33  v32     float64\n",
      " 34  v33     float64\n",
      " 35  v34     float64\n",
      " 36  v35     float64\n",
      " 37  v36     float64\n",
      " 38  v37     float64\n",
      " 39  v38     int64  \n",
      " 40  v39     float64\n",
      " 41  v40     float64\n",
      " 42  v41     float64\n",
      " 43  v42     float64\n",
      " 44  v43     float64\n",
      " 45  v44     float64\n",
      " 46  v45     float64\n",
      " 47  v46     float64\n",
      " 48  v47     object \n",
      " 49  v48     float64\n",
      " 50  v49     float64\n",
      " 51  v50     float64\n",
      " 52  v51     float64\n",
      " 53  v52     object \n",
      " 54  v53     float64\n",
      " 55  v54     float64\n",
      " 56  v55     float64\n",
      " 57  v56     object \n",
      " 58  v57     float64\n",
      " 59  v58     float64\n",
      " 60  v59     float64\n",
      " 61  v60     float64\n",
      " 62  v61     float64\n",
      " 63  v62     int64  \n",
      " 64  v63     float64\n",
      " 65  v64     float64\n",
      " 66  v65     float64\n",
      " 67  v66     object \n",
      " 68  v67     float64\n",
      " 69  v68     float64\n",
      " 70  v69     float64\n",
      " 71  v70     float64\n",
      " 72  v71     object \n",
      " 73  v72     int64  \n",
      " 74  v73     float64\n",
      " 75  v74     object \n",
      " 76  v75     object \n",
      " 77  v76     float64\n",
      " 78  v77     float64\n",
      " 79  v78     float64\n",
      " 80  v79     object \n",
      " 81  v80     float64\n",
      " 82  v81     float64\n",
      " 83  v82     float64\n",
      " 84  v83     float64\n",
      " 85  v84     float64\n",
      " 86  v85     float64\n",
      " 87  v86     float64\n",
      " 88  v87     float64\n",
      " 89  v88     float64\n",
      " 90  v89     float64\n",
      " 91  v90     float64\n",
      " 92  v91     object \n",
      " 93  v92     float64\n",
      " 94  v93     float64\n",
      " 95  v94     float64\n",
      " 96  v95     float64\n",
      " 97  v96     float64\n",
      " 98  v97     float64\n",
      " 99  v98     float64\n",
      " 100 v99     float64\n",
      " 101 v100    float64\n",
      " 102 v101    float64\n",
      " 103 v102    float64\n",
      " 104 v103    float64\n",
      " 105 v104    float64\n",
      " 106 v105    float64\n",
      " 107 v106    float64\n",
      " 108 v107    object \n",
      " 109 v108    float64\n",
      " 110 v109    float64\n",
      " 111 v110    object \n",
      " 112 v111    float64\n",
      " 113 v112    object \n",
      " 114 v113    object \n",
      " 115 v114    float64\n",
      " 116 v115    float64\n",
      " 117 v116    float64\n",
      " 118 v117    float64\n",
      " 119 v118    float64\n",
      " 120 v119    float64\n",
      " 121 v120    float64\n",
      " 122 v121    float64\n",
      " 123 v122    float64\n",
      " 124 v123    float64\n",
      " 125 v124    float64\n",
      " 126 v125    object \n",
      " 127 v126    float64\n",
      " 128 v127    float64\n",
      " 129 v128    float64\n",
      " 130 v129    int64  \n",
      " 131 v130    float64\n",
      " 132 v131    float64\n",
      "dtypes: float64(108), int64(6), object(19)\n",
      "memory usage: 116.0+ MB\n"
     ]
    }
   ],
   "source": [
    "df.info(verbose = True)"
   ]
  },
  {
   "cell_type": "markdown",
   "metadata": {},
   "source": [
    "We see mostly floats. There are some object data types we should probably recast. We have 114K observations, plenty to work with.  No variable names, as expected. He said there are no missings but lets check anyway."
   ]
  },
  {
   "cell_type": "code",
   "execution_count": 7,
   "metadata": {},
   "outputs": [
    {
     "data": {
      "text/plain": [
       "False"
      ]
     },
     "execution_count": 7,
     "metadata": {},
     "output_type": "execute_result"
    }
   ],
   "source": [
    "df.isnull().values.any()"
   ]
  },
  {
   "cell_type": "markdown",
   "metadata": {},
   "source": [
    "Fine. He told the truth. How about that target variable"
   ]
  },
  {
   "cell_type": "code",
   "execution_count": 12,
   "metadata": {
    "scrolled": false
   },
   "outputs": [
    {
     "name": "stdout",
     "output_type": "stream",
     "text": [
      "1    87021\n",
      "0    27300\n",
      "Name: target, dtype: int64\n",
      "0.2388\n"
     ]
    }
   ],
   "source": [
    "counts = df.target.value_counts()\n",
    "print(counts)\n",
    "print(round(counts[0]/sum(counts),4))"
   ]
  },
  {
   "cell_type": "markdown",
   "metadata": {},
   "source": [
    "The target is binary and a little unbalanced, but not terrible."
   ]
  },
  {
   "cell_type": "markdown",
   "metadata": {},
   "source": [
    "## Data Cleaning"
   ]
  },
  {
   "cell_type": "markdown",
   "metadata": {},
   "source": [
    "boring"
   ]
  },
  {
   "cell_type": "code",
   "execution_count": null,
   "metadata": {},
   "outputs": [],
   "source": [
    "#data['minimum_nights'] = data['minimum_nights'].astype('float')"
   ]
  },
  {
   "cell_type": "markdown",
   "metadata": {},
   "source": [
    "## EDA"
   ]
  },
  {
   "cell_type": "markdown",
   "metadata": {},
   "source": [
    "boring"
   ]
  },
  {
   "cell_type": "markdown",
   "metadata": {},
   "source": [
    "## Modeling Prep"
   ]
  },
  {
   "cell_type": "code",
   "execution_count": 14,
   "metadata": {},
   "outputs": [],
   "source": [
    "def transform_data(data):\n",
    "    #OH encode\n",
    "    label_encode = [\n",
    "        x for x, y in dict(data.dtypes).items()\n",
    "        if type(y) == pd.CategoricalDtype\n",
    "    ]\n",
    "    for var in label_encode:\n",
    "        #impute to Mode\n",
    "        print(f\"{var} was OHE'd\")\n",
    "        data[var].fillna(data[var].mode()[0], inplace=True)\n",
    "        cat_list = pd.get_dummies(data[var], prefix=var)\n",
    "        data_new = data.join(cat_list)\n",
    "        data = data_new\n",
    "\n",
    "    normalize = [x for x, y in dict(data.dtypes).items() if y == np.float64]\n",
    "    for col in normalize:\n",
    "        #change impution scheme?\n",
    "        print(f\"{col} was Standard Scaled\")\n",
    "        data[col].fillna(data[col].median(), inplace=True)\n",
    "        normalizer = StandardScaler()\n",
    "        ar_train = data[col].to_numpy().reshape(-1, 1)\n",
    "        normalizer.fit(ar_train)\n",
    "        data.loc[:, col] = normalizer.transform(ar_train)\n",
    "    \n",
    "    data.drop(columns=label_encode, inplace=True)\n",
    "    #data.drop(columns=target_col, inplace=True)\n",
    "    \n",
    "    return data"
   ]
  },
  {
   "cell_type": "code",
   "execution_count": null,
   "metadata": {},
   "outputs": [],
   "source": [
    "from sklearn.model_selection import StratifiedShuffleSplit\n",
    "from sklearn.model_selection import train_test_split\n",
    "from sklearn.metrics import log_loss, accuracy_score #https://scikit-learn.org/stable/modules/model_evaluation.html"
   ]
  },
  {
   "cell_type": "code",
   "execution_count": null,
   "metadata": {},
   "outputs": [],
   "source": [
    "cv = StratifiedShuffleSplit(n_splits=5, test_size=0.2, random_state=42)"
   ]
  },
  {
   "cell_type": "code",
   "execution_count": null,
   "metadata": {},
   "outputs": [],
   "source": [
    "n_estimators= list(range(80, 110, 10))\n",
    "max_features = list(range(6, len(features_xform.columns), 5))\n",
    "min_samples_split = list(range(500, 701, 100))\n",
    "min_samples_leaf = [10, 20]\n",
    "print(f'n_estimator_grid_search:{n_estimators}')\n",
    "print(f'max_features_grid_search:{max_features}')\n",
    "print(f'min_samples_split_grid_search:{min_samples_split}')\n",
    "print(f'min_samples_leaf_grid_search:{min_samples_leaf}')\n",
    "scoring = {\n",
    "            'Accuracy':'accuracy'\n",
    "            , 'F-1 Score':'f1'\n",
    "            , 'Log Loss':'log_loss'}"
   ]
  },
  {
   "cell_type": "markdown",
   "metadata": {},
   "source": [
    "## Random Forest\n",
    "https://scikit-learn.org/stable/modules/generated/sklearn.ensemble.RandomForestClassifier.html"
   ]
  },
  {
   "cell_type": "code",
   "execution_count": null,
   "metadata": {},
   "outputs": [],
   "source": [
    "from sklearn.ensemble import RandomForestClassifier\n",
    "clf = RandomForestClassifier(max_depth=2, random_state=0)\n",
    "clf.fit(X, y)"
   ]
  }
 ],
 "metadata": {
  "kernelspec": {
   "display_name": "Python 3",
   "language": "python",
   "name": "python3"
  },
  "language_info": {
   "codemirror_mode": {
    "name": "ipython",
    "version": 3
   },
   "file_extension": ".py",
   "mimetype": "text/x-python",
   "name": "python",
   "nbconvert_exporter": "python",
   "pygments_lexer": "ipython3",
   "version": "3.7.1"
  }
 },
 "nbformat": 4,
 "nbformat_minor": 2
}
