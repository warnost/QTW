{
 "cells": [
  {
   "cell_type": "markdown",
   "metadata": {},
   "source": [
    "***\n",
    "# Week 12 Higgs Boson Case Study\n",
    "MSDS 7333 Quantifying the World  \n",
    "*Allison Roderick, Jenna Ford, and Will Arnost* \n",
    "***"
   ]
  },
  {
   "cell_type": "markdown",
   "metadata": {},
   "source": [
    "## Table of Contents\n",
    "\n",
    "<a href='#Section_1'> 1. Introduction </a>  \n",
    "<a href='#Section_2'> 2. Question </a>  \n",
    "<a href='#Section_3'> 3. Methods </a>  \n",
    "<a href='#Section_3_a'> &nbsp;&nbsp;&nbsp; a. Dataset </a>  \n",
    "<a href='#Section_3_b'> &nbsp;&nbsp;&nbsp; b. Neural Network Structure </a>  \n",
    "<a href='#Section_3_c'> &nbsp;&nbsp;&nbsp; c. Other Considerations </a>  \n",
    "<a href='#Section_4'> 4. Modeling </a>  \n",
    "<a href='#Section_5'> 5. Results </a>  \n",
    "<a href='#Section_6'> 6. Conclusion </a>  \n",
    "<a href='#Section_7'> 7. References </a>  \n",
    "<a href='#Section_8'> 8. Code </a>  "
   ]
  },
  {
   "cell_type": "code",
   "execution_count": 4,
   "metadata": {},
   "outputs": [
    {
     "data": {
      "text/html": [
       "<style>\n",
       "  table {margin-left: 0 !important;}\n",
       "</style>\n"
      ],
      "text/plain": [
       "<IPython.core.display.HTML object>"
      ]
     },
     "metadata": {},
     "output_type": "display_data"
    }
   ],
   "source": [
    "%%html\n",
    "<style>\n",
    "  table {margin-left: 0 !important;}\n",
    "</style>"
   ]
  },
  {
   "cell_type": "markdown",
   "metadata": {},
   "source": [
    "<a id = 'Section_1'></a>"
   ]
  },
  {
   "cell_type": "markdown",
   "metadata": {},
   "source": [
    "## 1. Introduction"
   ]
  },
  {
   "cell_type": "markdown",
   "metadata": {},
   "source": [
    "This week's case study involves replicating results produces in the paper \"Searching for Exotic Particles in High-Energy Physics with Deep Learning\" by Baldi, Sadowski, and Whiteson [1]. The 2014 paper looks to distinguish between particle collisions that produce exotic particle and those that do not. The authors investigate the use of deep neural networks to improve accuracy over other methods. \n",
    "\n",
    "We will attempt to replicate that paper's neural network architecture and performance. The packages used in the paper are outdated, so we will be using tensorflow to build our network. We hope to get as close to their AUC as possible."
   ]
  },
  {
   "cell_type": "markdown",
   "metadata": {},
   "source": [
    "<a id = 'Section_2'></a>"
   ]
  },
  {
   "cell_type": "markdown",
   "metadata": {},
   "source": [
    "## 2. Question"
   ]
  },
  {
   "cell_type": "markdown",
   "metadata": {},
   "source": [
    "Given the following paper: https://arxiv.org/pdf/1402.4735.pdf\n",
    "\n",
    "Build a replica Neural Network with the paper’s architecture using Tensorflow. If possible begin to train on the data located here: https://archive.ics.uci.edu/ml/datasets/HIGGS. How close can you get to the original results?\n",
    "To facilitate quicker training you may increase the batch size temporarily (this has a small impact on final result, but can speed you calculations significantly). You do not need to train a final result using the paper’s parameters, only the code for your model is required in your final submission.\n",
    "\n",
    "Include in your report:\n",
    "Based on the class notes and discussion suggest improvements to the procedure. What are standard practices now versus when this paper was written? What kind of improvements do they provide?\n",
    "How would you quantify if your result duplicated the paper’s?\n"
   ]
  },
  {
   "cell_type": "markdown",
   "metadata": {},
   "source": [
    "<a id = 'Section_3'></a>"
   ]
  },
  {
   "cell_type": "markdown",
   "metadata": {},
   "source": [
    "## 3. Methods"
   ]
  },
  {
   "cell_type": "markdown",
   "metadata": {},
   "source": [
    "This section gives an overview of what we know about the data and how we prepared the dataset for modeling."
   ]
  },
  {
   "cell_type": "markdown",
   "metadata": {},
   "source": [
    "<a id = 'Section_3_a'></a>"
   ]
  },
  {
   "cell_type": "markdown",
   "metadata": {},
   "source": [
    "### 3a. Dataset"
   ]
  },
  {
   "cell_type": "markdown",
   "metadata": {},
   "source": [
    "The dataset contains 11 million observations and 29 columns. The target column indicates if the collision produced exotic particles. The remaining 28 columns are numeric. There are no missing values in the data.\n",
    "\n",
    "To replicate the methods of the paper, we will use a sample of 2.6M records for model training and 100K records for validation."
   ]
  },
  {
   "cell_type": "markdown",
   "metadata": {},
   "source": [
    "<a id = 'Section_3_b'></a>"
   ]
  },
  {
   "cell_type": "markdown",
   "metadata": {},
   "source": [
    "### 3b. Neural Network Stucture"
   ]
  },
  {
   "cell_type": "markdown",
   "metadata": {},
   "source": [
    "<a id = 'Section_3_c'></a>"
   ]
  },
  {
   "cell_type": "markdown",
   "metadata": {},
   "source": [
    "To replicate the study, we want to create a network with the following structure:\n",
    "- 5 densly connected layers\n",
    " - 4 layers with 300 hidden units and tanh activation functions\n",
    " - 1 output layer with a linear activation function\n",
    "- learning rate of 0.05\n",
    "- weight decay coefficient of 1 × 10−5\n",
    " - The learning rate decayed by a factor of 1.0000002 every batch update until it reached a minimum of 10−6\n",
    "- <!>Weights were initialized from a normal distribution with zero mean and standard deviation 0.1 in the first layer, 0.001 in the output layer, and 0.05 all other hidden layers.\n",
    "- Mini-Batch sizes of 100\n",
    "- <!>A momentum term increased linearly over the first 200 epochs from 0.9 to 0.99, at which point it remained constant\n",
    "- <!>Training ended when the momentum had reached its maximum value and the minimum error on the validation set (500,000 examples) had not decreased by more than a factor of 0.00001 over 10 epochs.his early stopping prevented overfitting and resulted in each neural network being trained for 200-1000 epochs\n",
    "- <!> Autoencoder pretraining was performed by training a stack of single-hidden-layer autoencoder networks as in [9], then fine-tuning the full network using the class labels. Each autoencoder in the stack used tanh hidden units and linear outputs, and was trained with the same initialization scheme, learning algorithm, and stopping parameters as in the fine-tuning stage. When training with dropout, we increased the learning rate decay factor to 1.0000003, and only ended training when the momentum had reached its maximum value and the error on the validation set had not decreased for 40 epochs.\n",
    "- <!> Input features were standardized over the entire train/test set with mean zero and standard deviation one, except for those features with values strictly greater than zero – these we scaled so that the mean value was one."
   ]
  },
  {
   "cell_type": "markdown",
   "metadata": {},
   "source": [
    "### 3c. Other Considerations"
   ]
  },
  {
   "cell_type": "markdown",
   "metadata": {},
   "source": [
    "Tensorflow is much newer than the Theano library used in the original paper. Methods for training neural networks have also changed since the paper was written in 2014. We are not able to replicate all aspects of the original network and explain those instances here."
   ]
  },
  {
   "cell_type": "markdown",
   "metadata": {},
   "source": [
    "<a id = 'Section_4'></a>"
   ]
  },
  {
   "cell_type": "markdown",
   "metadata": {},
   "source": [
    "## 4. Modeling"
   ]
  },
  {
   "cell_type": "markdown",
   "metadata": {},
   "source": [
    "<a id = 'Section_5'></a>"
   ]
  },
  {
   "cell_type": "markdown",
   "metadata": {},
   "source": [
    "## 5. Results"
   ]
  },
  {
   "cell_type": "markdown",
   "metadata": {},
   "source": [
    "<a id = 'Section_6'></a>"
   ]
  },
  {
   "cell_type": "markdown",
   "metadata": {},
   "source": [
    "## 6. Conclusion"
   ]
  },
  {
   "cell_type": "markdown",
   "metadata": {},
   "source": [
    "<a id = 'Section_7'></a>"
   ]
  },
  {
   "cell_type": "markdown",
   "metadata": {},
   "source": [
    "<a id = 'Section_7'></a>"
   ]
  },
  {
   "cell_type": "markdown",
   "metadata": {},
   "source": [
    "## 7. References"
   ]
  },
  {
   "cell_type": "markdown",
   "metadata": {},
   "source": [
    "1. https://arxiv.org/pdf/1402.4735.pdf Searching for Exotic Particles in High-Energy Physics with Deep Learning by Baldi, Sadowski, and Whiteson"
   ]
  },
  {
   "cell_type": "markdown",
   "metadata": {},
   "source": [
    "<a id = 'Section_8'></a>"
   ]
  },
  {
   "cell_type": "markdown",
   "metadata": {},
   "source": [
    "## 8. Code"
   ]
  }
 ],
 "metadata": {
  "kernelspec": {
   "display_name": "Python 3",
   "language": "python",
   "name": "python3"
  },
  "language_info": {
   "codemirror_mode": {
    "name": "ipython",
    "version": 3
   },
   "file_extension": ".py",
   "mimetype": "text/x-python",
   "name": "python",
   "nbconvert_exporter": "python",
   "pygments_lexer": "ipython3",
   "version": "3.8.3"
  }
 },
 "nbformat": 4,
 "nbformat_minor": 2
}
